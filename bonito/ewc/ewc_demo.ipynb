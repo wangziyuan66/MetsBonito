{
 "cells": [
  {
   "cell_type": "code",
   "execution_count": 1,
   "metadata": {},
   "outputs": [
    {
     "ename": "SyntaxError",
     "evalue": "EOL while scanning string literal (1840100359.py, line 22)",
     "output_type": "error",
     "traceback": [
      "\u001b[0;36m  Input \u001b[0;32mIn [1]\u001b[0;36m\u001b[0m\n\u001b[0;31m    dirname = \"/home/princezwang/software/MetsBonito/bonito/models/dna_r9.4.1@v2\u001b[0m\n\u001b[0m                                                                                ^\u001b[0m\n\u001b[0;31mSyntaxError\u001b[0m\u001b[0;31m:\u001b[0m EOL while scanning string literal\n"
     ]
    }
   ],
   "source": [
    "from utils import EWC \n",
    "import os\n",
    "from argparse import ArgumentParser\n",
    "from argparse import ArgumentDefaultsHelpFormatter\n",
    "from pathlib import Path\n",
    "from importlib import import_module\n",
    "\n",
    "from bonito.data import load_numpy, load_script\n",
    "from bonito.util import __models__, default_config, default_data\n",
    "from bonito.util import load_model, load_symbol, init, half_supported\n",
    "from bonito.training import load_state, Trainer\n",
    "from bonito.nn import Permute, layers\n",
    "\n",
    "import toml\n",
    "import torch\n",
    "import numpy as np\n",
    "from torch.utils.data import DataLoader\n",
    "\n",
    "from torch.nn.functional import log_softmax, ctc_loss, softmax\n",
    "from torch.nn import Module, ModuleList, Sequential, Conv1d, BatchNorm1d, Dropout\n",
    "\n",
    "dirname = \"/home/princezwang/software/MetsBonito/bonito/models/dna_r9.4.1@v2\n",
    "if not os.path.isdir(dirname) and os.path.isdir(os.path.join(__models__, dirname)):\n",
    "    dirname = os.path.join(__models__, dirname)\n",
    "pretrain_file = os.path.join(dirname, 'config.toml')\n",
    "config = toml.load(pretrain_file)\n",
    "if 'lr_scheduler' in config:\n",
    "    print(f\"[ignoring 'lr_scheduler' in --pretrained config]\")\n",
    "    del config['lr_scheduler']\n",
    "model = load_model(dirname, \"cpu\")\n",
    "# ewv = EWC()"
   ]
  },
  {
   "cell_type": "code",
   "execution_count": 3,
   "metadata": {},
   "outputs": [
    {
     "ename": "NameError",
     "evalue": "name 'model' is not defined",
     "output_type": "error",
     "traceback": [
      "\u001b[0;31m---------------------------------------------------------------------------\u001b[0m",
      "\u001b[0;31mNameError\u001b[0m                                 Traceback (most recent call last)",
      "\u001b[1;32m/home/princezwang/software/MetsBonito/bonito/ewc/ewc_demo.ipynb Cell 2\u001b[0m in \u001b[0;36m<cell line: 1>\u001b[0;34m()\u001b[0m\n\u001b[0;32m----> <a href='vscode-notebook-cell://ssh-remote%2Bdinglab.pharmacy.arizona.edu/home/princezwang/software/MetsBonito/bonito/ewc/ewc_demo.ipynb#W1sdnNjb2RlLXJlbW90ZQ%3D%3D?line=0'>1</a>\u001b[0m model\n",
      "\u001b[0;31mNameError\u001b[0m: name 'model' is not defined"
     ]
    }
   ],
   "source": [
    "model"
   ]
  }
 ],
 "metadata": {
  "kernelspec": {
   "display_name": "Python 3.8.10 ('bonito_env': conda)",
   "language": "python",
   "name": "python3"
  },
  "language_info": {
   "codemirror_mode": {
    "name": "ipython",
    "version": 3
   },
   "file_extension": ".py",
   "mimetype": "text/x-python",
   "name": "python",
   "nbconvert_exporter": "python",
   "pygments_lexer": "ipython3",
   "version": "3.8.10"
  },
  "orig_nbformat": 4,
  "vscode": {
   "interpreter": {
    "hash": "edc9de87d5f7cbbbc5e8998f9d68b8ac511285245709bc72d1b3b2821f60c486"
   }
  }
 },
 "nbformat": 4,
 "nbformat_minor": 2
}
